{
 "cells": [
  {
   "cell_type": "code",
   "execution_count": 1,
   "id": "50b051d4",
   "metadata": {},
   "outputs": [],
   "source": [
    "import pandas as pd\n",
    "import numpy as np\n",
    "import matplotlib.pyplot as plt\n",
    "import seaborn as sns"
   ]
  },
  {
   "cell_type": "code",
   "execution_count": 20,
   "id": "93127ed7",
   "metadata": {},
   "outputs": [],
   "source": [
    "clustering = pd.read_csv('./data/clusterdb_cluster.tsv', sep=\"\\t\", header=None)\n",
    "taxid_mapping = pd.read_csv('./data/tax_mapping.tsv', sep=\"\\t\", header=None)"
   ]
  },
  {
   "cell_type": "code",
   "execution_count": 21,
   "id": "6a3b1490",
   "metadata": {},
   "outputs": [],
   "source": [
    "taxid_mapping.columns = [\"seqid\", \"taxid\"]"
   ]
  },
  {
   "cell_type": "code",
   "execution_count": 22,
   "id": "61e70651",
   "metadata": {},
   "outputs": [],
   "source": [
    "clusters = pd.merge(clustering, taxid_mapping, left_on=1, right_on=\"seqid\")"
   ]
  },
  {
   "cell_type": "code",
   "execution_count": 23,
   "id": "d191c212",
   "metadata": {},
   "outputs": [
    {
     "data": {
      "text/html": [
       "<div>\n",
       "<style scoped>\n",
       "    .dataframe tbody tr th:only-of-type {\n",
       "        vertical-align: middle;\n",
       "    }\n",
       "\n",
       "    .dataframe tbody tr th {\n",
       "        vertical-align: top;\n",
       "    }\n",
       "\n",
       "    .dataframe thead th {\n",
       "        text-align: right;\n",
       "    }\n",
       "</style>\n",
       "<table border=\"1\" class=\"dataframe\">\n",
       "  <thead>\n",
       "    <tr style=\"text-align: right;\">\n",
       "      <th></th>\n",
       "      <th>seqid</th>\n",
       "      <th>taxid</th>\n",
       "    </tr>\n",
       "    <tr>\n",
       "      <th>cluster</th>\n",
       "      <th></th>\n",
       "      <th></th>\n",
       "    </tr>\n",
       "  </thead>\n",
       "  <tbody>\n",
       "    <tr>\n",
       "      <th>KAK0222395.1</th>\n",
       "      <td>KAK0222395.1</td>\n",
       "      <td>153910</td>\n",
       "    </tr>\n",
       "    <tr>\n",
       "      <th>KAK0222395.1</th>\n",
       "      <td>KAK0197673.1</td>\n",
       "      <td>47429</td>\n",
       "    </tr>\n",
       "    <tr>\n",
       "      <th>KAK0222402.1</th>\n",
       "      <td>KAK0222402.1</td>\n",
       "      <td>153910</td>\n",
       "    </tr>\n",
       "    <tr>\n",
       "      <th>KAK0222405.1</th>\n",
       "      <td>KAK0222405.1</td>\n",
       "      <td>153910</td>\n",
       "    </tr>\n",
       "    <tr>\n",
       "      <th>KAK0222405.1</th>\n",
       "      <td>KAK0221353.1</td>\n",
       "      <td>153910</td>\n",
       "    </tr>\n",
       "    <tr>\n",
       "      <th>...</th>\n",
       "      <td>...</td>\n",
       "      <td>...</td>\n",
       "    </tr>\n",
       "    <tr>\n",
       "      <th>KAK0477210.1</th>\n",
       "      <td>KAK0477210.1</td>\n",
       "      <td>153913</td>\n",
       "    </tr>\n",
       "    <tr>\n",
       "      <th>KAK0477210.1</th>\n",
       "      <td>KAK0499327.1</td>\n",
       "      <td>153913</td>\n",
       "    </tr>\n",
       "    <tr>\n",
       "      <th>KAK0477210.1</th>\n",
       "      <td>KAK0477713.1</td>\n",
       "      <td>153913</td>\n",
       "    </tr>\n",
       "    <tr>\n",
       "      <th>KAK0477213.1</th>\n",
       "      <td>KAK0477213.1</td>\n",
       "      <td>153913</td>\n",
       "    </tr>\n",
       "    <tr>\n",
       "      <th>KAK0477216.1</th>\n",
       "      <td>KAK0477216.1</td>\n",
       "      <td>153913</td>\n",
       "    </tr>\n",
       "  </tbody>\n",
       "</table>\n",
       "<p>178410 rows × 2 columns</p>\n",
       "</div>"
      ],
      "text/plain": [
       "                     seqid   taxid\n",
       "cluster                           \n",
       "KAK0222395.1  KAK0222395.1  153910\n",
       "KAK0222395.1  KAK0197673.1   47429\n",
       "KAK0222402.1  KAK0222402.1  153910\n",
       "KAK0222405.1  KAK0222405.1  153910\n",
       "KAK0222405.1  KAK0221353.1  153910\n",
       "...                    ...     ...\n",
       "KAK0477210.1  KAK0477210.1  153913\n",
       "KAK0477210.1  KAK0499327.1  153913\n",
       "KAK0477210.1  KAK0477713.1  153913\n",
       "KAK0477213.1  KAK0477213.1  153913\n",
       "KAK0477216.1  KAK0477216.1  153913\n",
       "\n",
       "[178410 rows x 2 columns]"
      ]
     },
     "execution_count": 23,
     "metadata": {},
     "output_type": "execute_result"
    }
   ],
   "source": [
    "clusters = clusters.set_index(0)\n",
    "clusters = clusters.drop(1, axis=1)\n",
    "clusters.index = clusters.index.rename('cluster')\n",
    "clusters"
   ]
  },
  {
   "cell_type": "code",
   "execution_count": 24,
   "id": "2b6500aa",
   "metadata": {},
   "outputs": [],
   "source": [
    "utax_count = clusters.groupby(\"cluster\").nunique().sort_values('taxid', ascending=False)"
   ]
  },
  {
   "cell_type": "code",
   "execution_count": 25,
   "id": "a3ba4efc",
   "metadata": {},
   "outputs": [
    {
     "data": {
      "text/html": [
       "<div>\n",
       "<style scoped>\n",
       "    .dataframe tbody tr th:only-of-type {\n",
       "        vertical-align: middle;\n",
       "    }\n",
       "\n",
       "    .dataframe tbody tr th {\n",
       "        vertical-align: top;\n",
       "    }\n",
       "\n",
       "    .dataframe thead th {\n",
       "        text-align: right;\n",
       "    }\n",
       "</style>\n",
       "<table border=\"1\" class=\"dataframe\">\n",
       "  <thead>\n",
       "    <tr style=\"text-align: right;\">\n",
       "      <th></th>\n",
       "      <th>seqid</th>\n",
       "      <th>taxid</th>\n",
       "    </tr>\n",
       "    <tr>\n",
       "      <th>cluster</th>\n",
       "      <th></th>\n",
       "      <th></th>\n",
       "    </tr>\n",
       "  </thead>\n",
       "  <tbody>\n",
       "    <tr>\n",
       "      <th>PBK63318.1</th>\n",
       "      <td>28</td>\n",
       "      <td>9</td>\n",
       "    </tr>\n",
       "    <tr>\n",
       "      <th>KAK0456126.1</th>\n",
       "      <td>9</td>\n",
       "      <td>9</td>\n",
       "    </tr>\n",
       "    <tr>\n",
       "      <th>KAK0456040.1</th>\n",
       "      <td>9</td>\n",
       "      <td>9</td>\n",
       "    </tr>\n",
       "    <tr>\n",
       "      <th>KAK0224325.1</th>\n",
       "      <td>17</td>\n",
       "      <td>9</td>\n",
       "    </tr>\n",
       "    <tr>\n",
       "      <th>KAK0456089.1</th>\n",
       "      <td>17</td>\n",
       "      <td>9</td>\n",
       "    </tr>\n",
       "    <tr>\n",
       "      <th>...</th>\n",
       "      <td>...</td>\n",
       "      <td>...</td>\n",
       "    </tr>\n",
       "    <tr>\n",
       "      <th>KAK0474698.1</th>\n",
       "      <td>1</td>\n",
       "      <td>1</td>\n",
       "    </tr>\n",
       "    <tr>\n",
       "      <th>KAK0474699.1</th>\n",
       "      <td>1</td>\n",
       "      <td>1</td>\n",
       "    </tr>\n",
       "    <tr>\n",
       "      <th>KAK0474702.1</th>\n",
       "      <td>3</td>\n",
       "      <td>1</td>\n",
       "    </tr>\n",
       "    <tr>\n",
       "      <th>KAK0474721.1</th>\n",
       "      <td>1</td>\n",
       "      <td>1</td>\n",
       "    </tr>\n",
       "    <tr>\n",
       "      <th>KAK0493838.1</th>\n",
       "      <td>1</td>\n",
       "      <td>1</td>\n",
       "    </tr>\n",
       "  </tbody>\n",
       "</table>\n",
       "<p>53290 rows × 2 columns</p>\n",
       "</div>"
      ],
      "text/plain": [
       "              seqid  taxid\n",
       "cluster                   \n",
       "PBK63318.1       28      9\n",
       "KAK0456126.1      9      9\n",
       "KAK0456040.1      9      9\n",
       "KAK0224325.1     17      9\n",
       "KAK0456089.1     17      9\n",
       "...             ...    ...\n",
       "KAK0474698.1      1      1\n",
       "KAK0474699.1      1      1\n",
       "KAK0474702.1      3      1\n",
       "KAK0474721.1      1      1\n",
       "KAK0493838.1      1      1\n",
       "\n",
       "[53290 rows x 2 columns]"
      ]
     },
     "execution_count": 25,
     "metadata": {},
     "output_type": "execute_result"
    }
   ],
   "source": [
    "utax_count"
   ]
  },
  {
   "cell_type": "code",
   "execution_count": 57,
   "id": "2c27b05a",
   "metadata": {},
   "outputs": [
    {
     "data": {
      "image/png": "[encoded data removed]",
      "text/plain": [
       "<Figure size 640x480 with 1 Axes>"
      ]
     },
     "metadata": {},
     "output_type": "display_data"
    }
   ],
   "source": [
    "plot = sns.boxplot(\n",
    "    data=utax_count[utax_count.seqid < 50],\n",
    "    x=\"taxid\",\n",
    "    y=\"seqid\",\n",
    "    flierprops={\"markersize\": 3},\n",
    ")\n",
    "plot.set_xlabel(\"Number of unique taxa in cluster\")\n",
    "plot.set_ylabel(\"Number of sequences in cluster\")\n",
    "plot.figure.savefig(\"./figures/cluster_boxplot_subset.png\", dpi=350)"
   ]
  }
 ],
 "metadata": {
  "kernelspec": {
   "display_name": "genomika",
   "language": "python",
   "name": "genomika"
  },
  "language_info": {
   "codemirror_mode": {
    "name": "ipython",
    "version": 3
   },
   "file_extension": ".py",
   "mimetype": "text/x-python",
   "name": "python",
   "nbconvert_exporter": "python",
   "pygments_lexer": "ipython3",
   "version": "3.10.9"
  }
 },
 "nbformat": 4,
 "nbformat_minor": 5
}
